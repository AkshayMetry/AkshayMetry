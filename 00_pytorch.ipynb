{
  "nbformat": 4,
  "nbformat_minor": 0,
  "metadata": {
    "colab": {
      "provenance": [],
      "authorship_tag": "ABX9TyPjTqHtpBV/pYYXuCxJkbT8",
      "include_colab_link": true
    },
    "kernelspec": {
      "name": "python3",
      "display_name": "Python 3"
    },
    "language_info": {
      "name": "python"
    }
  },
  "cells": [
    {
      "cell_type": "markdown",
      "metadata": {
        "id": "view-in-github",
        "colab_type": "text"
      },
      "source": [
        "<a href=\"https://colab.research.google.com/github/AkshayMetry/AkshayMetry/blob/main/00_pytorch.ipynb\" target=\"_parent\"><img src=\"https://colab.research.google.com/assets/colab-badge.svg\" alt=\"Open In Colab\"/></a>"
      ]
    },
    {
      "cell_type": "markdown",
      "source": [
        "Resources\n",
        "\n",
        "https://www.learnpytorch.io/00_pytorch_fundamentals/"
      ],
      "metadata": {
        "id": "xbU5AlQqX0OB"
      }
    },
    {
      "cell_type": "code",
      "execution_count": 1,
      "metadata": {
        "id": "ARUiu-9hVTOI"
      },
      "outputs": [],
      "source": [
        "#Pytorch Fundamentals\n",
        "import torch\n",
        "import numpy as np\n",
        "import pandas as pd\n",
        "import matplotlib.pyplot as plt\n",
        "\n",
        "#print(torch.__version__)"
      ]
    },
    {
      "cell_type": "markdown",
      "source": [
        "Introduction To Tensors\n",
        "\n",
        "Creating tensors"
      ],
      "metadata": {
        "id": "gmiJNZUmXnuz"
      }
    },
    {
      "cell_type": "code",
      "source": [
        "#scalars\n",
        "#torch.Tensor - A torch.Tensor is a multi-dimensional matrix containing elements of a single data type.\n",
        "\n",
        "scalar = torch.tensor(7)\n",
        "scalar"
      ],
      "metadata": {
        "colab": {
          "base_uri": "https://localhost:8080/"
        },
        "id": "6rKjmH1IXp5V",
        "outputId": "9137fa89-8ea6-45b4-bc62-2e72f7954f47"
      },
      "execution_count": 2,
      "outputs": [
        {
          "output_type": "execute_result",
          "data": {
            "text/plain": [
              "tensor(7)"
            ]
          },
          "metadata": {},
          "execution_count": 2
        }
      ]
    },
    {
      "cell_type": "code",
      "source": [
        "scalar.ndim"
      ],
      "metadata": {
        "colab": {
          "base_uri": "https://localhost:8080/"
        },
        "id": "7Y0GchSLYAfQ",
        "outputId": "a0e508b0-1039-4810-90b1-e671fb3efb8f"
      },
      "execution_count": 3,
      "outputs": [
        {
          "output_type": "execute_result",
          "data": {
            "text/plain": [
              "0"
            ]
          },
          "metadata": {},
          "execution_count": 3
        }
      ]
    },
    {
      "cell_type": "code",
      "source": [
        "scalar.item()"
      ],
      "metadata": {
        "colab": {
          "base_uri": "https://localhost:8080/"
        },
        "id": "JaUmE-NoYzJm",
        "outputId": "412396f1-6fd2-4643-f18c-03e8ba646e1e"
      },
      "execution_count": 4,
      "outputs": [
        {
          "output_type": "execute_result",
          "data": {
            "text/plain": [
              "7"
            ]
          },
          "metadata": {},
          "execution_count": 4
        }
      ]
    },
    {
      "cell_type": "code",
      "source": [
        "#Vector - Magnitude and direction\n",
        "vector = torch.tensor([7,7])\n",
        "vector"
      ],
      "metadata": {
        "colab": {
          "base_uri": "https://localhost:8080/"
        },
        "id": "DKd3s5Z8Y0pe",
        "outputId": "d1577f61-dcde-4dfd-cc46-aa38e101dd0d"
      },
      "execution_count": 5,
      "outputs": [
        {
          "output_type": "execute_result",
          "data": {
            "text/plain": [
              "tensor([7, 7])"
            ]
          },
          "metadata": {},
          "execution_count": 5
        }
      ]
    },
    {
      "cell_type": "code",
      "source": [
        "vector.shape"
      ],
      "metadata": {
        "colab": {
          "base_uri": "https://localhost:8080/"
        },
        "id": "22YH0zkrY96v",
        "outputId": "00973c07-f28a-41c3-f729-46f60fbf8f3d"
      },
      "execution_count": 6,
      "outputs": [
        {
          "output_type": "execute_result",
          "data": {
            "text/plain": [
              "torch.Size([2])"
            ]
          },
          "metadata": {},
          "execution_count": 6
        }
      ]
    },
    {
      "cell_type": "code",
      "source": [
        "vector.ndim"
      ],
      "metadata": {
        "colab": {
          "base_uri": "https://localhost:8080/"
        },
        "id": "sTAh0YyfZQPf",
        "outputId": "b07b9561-f7f5-42f9-ed12-e1eae867e577"
      },
      "execution_count": 7,
      "outputs": [
        {
          "output_type": "execute_result",
          "data": {
            "text/plain": [
              "1"
            ]
          },
          "metadata": {},
          "execution_count": 7
        }
      ]
    },
    {
      "cell_type": "code",
      "source": [
        "#MATRIX\n",
        "MATRIX = torch.tensor([ [7,8],\n",
        "                        [8,7] ])\n",
        "MATRIX"
      ],
      "metadata": {
        "colab": {
          "base_uri": "https://localhost:8080/"
        },
        "id": "ONGR2veEZSOE",
        "outputId": "e186e855-d79d-42cb-de8b-3554fcf81b4d"
      },
      "execution_count": 8,
      "outputs": [
        {
          "output_type": "execute_result",
          "data": {
            "text/plain": [
              "tensor([[7, 8],\n",
              "        [8, 7]])"
            ]
          },
          "metadata": {},
          "execution_count": 8
        }
      ]
    },
    {
      "cell_type": "code",
      "source": [
        "MATRIX.ndim"
      ],
      "metadata": {
        "colab": {
          "base_uri": "https://localhost:8080/"
        },
        "id": "DzL0dJGsZj9c",
        "outputId": "1c5942de-20bb-4ef2-ec39-2ca9f7c02458"
      },
      "execution_count": 9,
      "outputs": [
        {
          "output_type": "execute_result",
          "data": {
            "text/plain": [
              "2"
            ]
          },
          "metadata": {},
          "execution_count": 9
        }
      ]
    },
    {
      "cell_type": "code",
      "source": [
        "MATRIX[1]"
      ],
      "metadata": {
        "colab": {
          "base_uri": "https://localhost:8080/"
        },
        "id": "MS9F9RLjZn-u",
        "outputId": "bdb355fc-0d5f-49cd-e353-6cb3d507ae0f"
      },
      "execution_count": 10,
      "outputs": [
        {
          "output_type": "execute_result",
          "data": {
            "text/plain": [
              "tensor([8, 7])"
            ]
          },
          "metadata": {},
          "execution_count": 10
        }
      ]
    },
    {
      "cell_type": "code",
      "source": [
        "MATRIX.shape"
      ],
      "metadata": {
        "colab": {
          "base_uri": "https://localhost:8080/"
        },
        "id": "EErV1yn0ZqVM",
        "outputId": "602d2713-9a73-40d0-bd00-a98c0546d3b0"
      },
      "execution_count": 11,
      "outputs": [
        {
          "output_type": "execute_result",
          "data": {
            "text/plain": [
              "torch.Size([2, 2])"
            ]
          },
          "metadata": {},
          "execution_count": 11
        }
      ]
    },
    {
      "cell_type": "code",
      "source": [
        "#TENSOR\n",
        "TENSOR = torch.tensor([[[1,2,3],\n",
        "                        [4,5,6],\n",
        "                        [2,4,6]]])\n",
        "\n",
        "TENSOR"
      ],
      "metadata": {
        "colab": {
          "base_uri": "https://localhost:8080/"
        },
        "id": "wn0frv8zZtsz",
        "outputId": "be3dc49c-e11c-49e6-8517-5bb1a059ecfc"
      },
      "execution_count": 12,
      "outputs": [
        {
          "output_type": "execute_result",
          "data": {
            "text/plain": [
              "tensor([[[1, 2, 3],\n",
              "         [4, 5, 6],\n",
              "         [2, 4, 6]]])"
            ]
          },
          "metadata": {},
          "execution_count": 12
        }
      ]
    },
    {
      "cell_type": "code",
      "source": [
        "TENSOR.ndim"
      ],
      "metadata": {
        "colab": {
          "base_uri": "https://localhost:8080/"
        },
        "id": "DjzWsAvIaE79",
        "outputId": "67ae365f-3696-46b6-d5a0-eb093491d5ec"
      },
      "execution_count": 13,
      "outputs": [
        {
          "output_type": "execute_result",
          "data": {
            "text/plain": [
              "3"
            ]
          },
          "metadata": {},
          "execution_count": 13
        }
      ]
    },
    {
      "cell_type": "code",
      "source": [
        "TENSOR.shape"
      ],
      "metadata": {
        "colab": {
          "base_uri": "https://localhost:8080/"
        },
        "id": "ih7tu37kaKPW",
        "outputId": "97f3c3c2-3de1-4f64-934b-baa9fb56a474"
      },
      "execution_count": 14,
      "outputs": [
        {
          "output_type": "execute_result",
          "data": {
            "text/plain": [
              "torch.Size([1, 3, 3])"
            ]
          },
          "metadata": {},
          "execution_count": 14
        }
      ]
    },
    {
      "cell_type": "code",
      "source": [
        "TENSOR[0]"
      ],
      "metadata": {
        "colab": {
          "base_uri": "https://localhost:8080/"
        },
        "id": "0tEUxUqFaL3c",
        "outputId": "fcf8dbde-620c-4a1e-d4fe-4025db532e8b"
      },
      "execution_count": 15,
      "outputs": [
        {
          "output_type": "execute_result",
          "data": {
            "text/plain": [
              "tensor([[1, 2, 3],\n",
              "        [4, 5, 6],\n",
              "        [2, 4, 6]])"
            ]
          },
          "metadata": {},
          "execution_count": 15
        }
      ]
    },
    {
      "cell_type": "code",
      "source": [
        "TENSOR[0][1]"
      ],
      "metadata": {
        "colab": {
          "base_uri": "https://localhost:8080/"
        },
        "id": "DLO5_xj_aVaX",
        "outputId": "01841f7f-3c07-49b0-b2c1-8460ef57d20b"
      },
      "execution_count": 16,
      "outputs": [
        {
          "output_type": "execute_result",
          "data": {
            "text/plain": [
              "tensor([4, 5, 6])"
            ]
          },
          "metadata": {},
          "execution_count": 16
        }
      ]
    },
    {
      "cell_type": "code",
      "source": [
        "# Randoms Tensors\n",
        "\n",
        "#Randoms tensors are imp because the way many neural network learn is that they start\n",
        "#with tensors full of random numbers and then adjust those random numbers to bettter represent the data.\n",
        "\n",
        "# Start with random number --> look at data --> update random numbers --> look at data --> update random numbers\n",
        "\n",
        "\n",
        "#Create a random tensor of size\n",
        "# https://pytorch.org/docs/stable/generated/torch.rand.html\n",
        "random_tensor = torch.rand(3,4)\n",
        "random_tensor"
      ],
      "metadata": {
        "colab": {
          "base_uri": "https://localhost:8080/"
        },
        "id": "EnhEUhxrbKV3",
        "outputId": "4cb3ac50-836a-4a95-8587-85e1e99f1655"
      },
      "execution_count": 17,
      "outputs": [
        {
          "output_type": "execute_result",
          "data": {
            "text/plain": [
              "tensor([[0.6334, 0.9491, 0.2142, 0.1726],\n",
              "        [0.2696, 0.1216, 0.2529, 0.6123],\n",
              "        [0.8702, 0.2810, 0.6115, 0.5088]])"
            ]
          },
          "metadata": {},
          "execution_count": 17
        }
      ]
    },
    {
      "cell_type": "code",
      "source": [
        "random_tensor.shape"
      ],
      "metadata": {
        "colab": {
          "base_uri": "https://localhost:8080/"
        },
        "id": "D8-1sOCebs1m",
        "outputId": "ed62c71f-4af4-46af-e3c2-ced8fce9fecf"
      },
      "execution_count": 18,
      "outputs": [
        {
          "output_type": "execute_result",
          "data": {
            "text/plain": [
              "torch.Size([3, 4])"
            ]
          },
          "metadata": {},
          "execution_count": 18
        }
      ]
    },
    {
      "cell_type": "code",
      "source": [
        "random_tensor.ndim"
      ],
      "metadata": {
        "colab": {
          "base_uri": "https://localhost:8080/"
        },
        "id": "wxjlnuyscgxE",
        "outputId": "80e5addb-c76e-4030-a5ee-cd8c7cf35e66"
      },
      "execution_count": 19,
      "outputs": [
        {
          "output_type": "execute_result",
          "data": {
            "text/plain": [
              "2"
            ]
          },
          "metadata": {},
          "execution_count": 19
        }
      ]
    },
    {
      "cell_type": "code",
      "source": [
        "#Create a random tensor with similar shape to an image tensor\n",
        "random_image_tensor = torch.rand(size=(3,224,224)) #height, width, color channel\n",
        "random_image_tensor"
      ],
      "metadata": {
        "colab": {
          "base_uri": "https://localhost:8080/"
        },
        "id": "F5NK-CYDcjFk",
        "outputId": "0fae1bf2-77f7-41cb-973b-196d6d7db8fd"
      },
      "execution_count": 20,
      "outputs": [
        {
          "output_type": "execute_result",
          "data": {
            "text/plain": [
              "tensor([[[0.0256, 0.6139, 0.4950,  ..., 0.9770, 0.8164, 0.0494],\n",
              "         [0.8508, 0.6068, 0.8728,  ..., 0.4420, 0.7213, 0.7184],\n",
              "         [0.7183, 0.1677, 0.6437,  ..., 0.2964, 0.0178, 0.7863],\n",
              "         ...,\n",
              "         [0.6989, 0.7431, 0.5719,  ..., 0.5833, 0.7343, 0.7634],\n",
              "         [0.5145, 0.7608, 0.5734,  ..., 0.3286, 0.9343, 0.7422],\n",
              "         [0.2554, 0.8061, 0.9037,  ..., 0.6956, 0.8985, 0.1819]],\n",
              "\n",
              "        [[0.1318, 0.1624, 0.8295,  ..., 0.9053, 0.4044, 0.5329],\n",
              "         [0.7661, 0.7575, 0.8702,  ..., 0.1525, 0.8954, 0.9224],\n",
              "         [0.2801, 0.7127, 0.9180,  ..., 0.3245, 0.3540, 0.6518],\n",
              "         ...,\n",
              "         [0.3734, 0.7314, 0.1638,  ..., 0.7501, 0.5628, 0.5524],\n",
              "         [0.5254, 0.7774, 0.0413,  ..., 0.2179, 0.8846, 0.2788],\n",
              "         [0.0416, 0.2207, 0.9979,  ..., 0.5996, 0.6006, 0.7212]],\n",
              "\n",
              "        [[0.4141, 0.0347, 0.2161,  ..., 0.6566, 0.6852, 0.6149],\n",
              "         [0.3513, 0.0185, 0.8373,  ..., 0.0629, 0.1389, 0.4222],\n",
              "         [0.2058, 0.6844, 0.9610,  ..., 0.6834, 0.2902, 0.9811],\n",
              "         ...,\n",
              "         [0.4706, 0.4161, 0.3469,  ..., 0.6608, 0.3061, 0.5239],\n",
              "         [0.2289, 0.2683, 0.9864,  ..., 0.4087, 0.0845, 0.8782],\n",
              "         [0.4717, 0.1865, 0.0513,  ..., 0.2323, 0.0275, 0.1281]]])"
            ]
          },
          "metadata": {},
          "execution_count": 20
        }
      ]
    },
    {
      "cell_type": "code",
      "source": [
        "# Zero and Ones\n",
        "#Create a tensor of all zeros\n",
        "zeros = torch.zeros(size=(3,4))\n",
        "zeros"
      ],
      "metadata": {
        "colab": {
          "base_uri": "https://localhost:8080/"
        },
        "id": "2BlrZHV4daFW",
        "outputId": "0222d82c-01f5-403a-e074-957dc3570ccb"
      },
      "execution_count": 21,
      "outputs": [
        {
          "output_type": "execute_result",
          "data": {
            "text/plain": [
              "tensor([[0., 0., 0., 0.],\n",
              "        [0., 0., 0., 0.],\n",
              "        [0., 0., 0., 0.]])"
            ]
          },
          "metadata": {},
          "execution_count": 21
        }
      ]
    },
    {
      "cell_type": "code",
      "source": [
        "#Create a tensor of all ones\n",
        "ones = torch.ones(size=(3,4))\n",
        "ones"
      ],
      "metadata": {
        "colab": {
          "base_uri": "https://localhost:8080/"
        },
        "id": "2RySQKUFeXbR",
        "outputId": "d1071b7e-51a3-4fa9-b547-9207dad1b3ae"
      },
      "execution_count": 22,
      "outputs": [
        {
          "output_type": "execute_result",
          "data": {
            "text/plain": [
              "tensor([[1., 1., 1., 1.],\n",
              "        [1., 1., 1., 1.],\n",
              "        [1., 1., 1., 1.]])"
            ]
          },
          "metadata": {},
          "execution_count": 22
        }
      ]
    },
    {
      "cell_type": "code",
      "source": [
        "ones.dtype"
      ],
      "metadata": {
        "colab": {
          "base_uri": "https://localhost:8080/"
        },
        "id": "Cy7i4JclecqI",
        "outputId": "3d234f49-8521-49a8-fe94-6138a3cb0955"
      },
      "execution_count": 23,
      "outputs": [
        {
          "output_type": "execute_result",
          "data": {
            "text/plain": [
              "torch.float32"
            ]
          },
          "metadata": {},
          "execution_count": 23
        }
      ]
    },
    {
      "cell_type": "code",
      "source": [
        "random_image_tensor.dtype"
      ],
      "metadata": {
        "colab": {
          "base_uri": "https://localhost:8080/"
        },
        "id": "y5_p-MAmeoSQ",
        "outputId": "dfc8712c-ad52-48d2-9fd8-b80c7fa899bc"
      },
      "execution_count": 24,
      "outputs": [
        {
          "output_type": "execute_result",
          "data": {
            "text/plain": [
              "torch.float32"
            ]
          },
          "metadata": {},
          "execution_count": 24
        }
      ]
    },
    {
      "cell_type": "code",
      "source": [
        "# Creating a range of tensors and tensors-like\n",
        "#Use torch.range()\n",
        "\n",
        "one_to_ten = torch.arange(start=1, end=11, step=1)\n",
        "one_to_ten"
      ],
      "metadata": {
        "colab": {
          "base_uri": "https://localhost:8080/"
        },
        "id": "NYrDG9d7eruh",
        "outputId": "5ee123ad-58b2-4991-ada2-5cc389b7596c"
      },
      "execution_count": 25,
      "outputs": [
        {
          "output_type": "execute_result",
          "data": {
            "text/plain": [
              "tensor([ 1,  2,  3,  4,  5,  6,  7,  8,  9, 10])"
            ]
          },
          "metadata": {},
          "execution_count": 25
        }
      ]
    },
    {
      "cell_type": "code",
      "source": [
        "#Creating tensors-like\n",
        "ten_zeros = torch.zeros_like(input=one_to_ten)\n",
        "ten_zeros"
      ],
      "metadata": {
        "colab": {
          "base_uri": "https://localhost:8080/"
        },
        "id": "sbfpW8-AfGz0",
        "outputId": "39a64299-cac4-4370-c89b-6a81170e8f15"
      },
      "execution_count": 26,
      "outputs": [
        {
          "output_type": "execute_result",
          "data": {
            "text/plain": [
              "tensor([0, 0, 0, 0, 0, 0, 0, 0, 0, 0])"
            ]
          },
          "metadata": {},
          "execution_count": 26
        }
      ]
    },
    {
      "cell_type": "code",
      "source": [
        "# Tensors datatypes\n",
        "\n",
        "## Note: Tensor datatypes is one of the 3 big errors you'll run into with PyTorch & deep learning\n",
        "# 1. Tensors not right datatype\n",
        "# 2. Tensors not right shape\n",
        "# 3. Tensors not on the right device\n",
        "\n",
        "# Float32 tensor\n",
        "float_32_tensor = torch.tensor([3.0,6.0,9.0],\n",
        "                                dtype = None, #what datatype is tensor - float32, float16\n",
        "                                device = None, #what device is your tensor on\n",
        "                                requires_grad=False) #whether or not to track gradients with tensors operation\n",
        "float_32_tensor"
      ],
      "metadata": {
        "colab": {
          "base_uri": "https://localhost:8080/"
        },
        "id": "fhKOEyXxfrg1",
        "outputId": "cc0244c3-d7b7-4822-f576-b53303de99e6"
      },
      "execution_count": 27,
      "outputs": [
        {
          "output_type": "execute_result",
          "data": {
            "text/plain": [
              "tensor([3., 6., 9.])"
            ]
          },
          "metadata": {},
          "execution_count": 27
        }
      ]
    },
    {
      "cell_type": "code",
      "source": [
        "float_16_tensor = float_32_tensor.type(torch.float16)\n",
        "float_16_tensor"
      ],
      "metadata": {
        "colab": {
          "base_uri": "https://localhost:8080/"
        },
        "id": "Kmglr2IngR1A",
        "outputId": "6fffd89d-b7aa-45d5-b495-01dd177b49ac"
      },
      "execution_count": 28,
      "outputs": [
        {
          "output_type": "execute_result",
          "data": {
            "text/plain": [
              "tensor([3., 6., 9.], dtype=torch.float16)"
            ]
          },
          "metadata": {},
          "execution_count": 28
        }
      ]
    },
    {
      "cell_type": "code",
      "source": [],
      "metadata": {
        "id": "_gL0mAumaj9Q"
      },
      "execution_count": null,
      "outputs": []
    }
  ]
}